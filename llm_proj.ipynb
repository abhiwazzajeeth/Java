{
  "nbformat": 4,
  "nbformat_minor": 0,
  "metadata": {
    "colab": {
      "provenance": [],
      "authorship_tag": "ABX9TyPP2rWdY23F/+cJBgeVmJoV",
      "include_colab_link": true
    },
    "kernelspec": {
      "name": "python3",
      "display_name": "Python 3"
    },
    "language_info": {
      "name": "python"
    }
  },
  "cells": [
    {
      "cell_type": "markdown",
      "metadata": {
        "id": "view-in-github",
        "colab_type": "text"
      },
      "source": [
        "<a href=\"https://colab.research.google.com/github/abhiwazzajeeth/Java/blob/master/llm_proj.ipynb\" target=\"_parent\"><img src=\"https://colab.research.google.com/assets/colab-badge.svg\" alt=\"Open In Colab\"/></a>"
      ]
    },
    {
      "cell_type": "code",
      "execution_count": null,
      "metadata": {
        "id": "kBXjoyt9GyhF"
      },
      "outputs": [],
      "source": []
    },
    {
      "cell_type": "code",
      "source": [
        "# prompt: hellow rold\n",
        "\n",
        "print(\"Hello world\")"
      ],
      "metadata": {
        "id": "mDjjdNFaI1mr"
      },
      "execution_count": null,
      "outputs": []
    },
    {
      "cell_type": "code",
      "source": [
        "import torch"
      ],
      "metadata": {
        "id": "i_6oUcybG1TU"
      },
      "execution_count": 1,
      "outputs": []
    },
    {
      "cell_type": "code",
      "source": [
        "with open('/content/sample_data/training_data.txt', 'r', encoding='utf-8') as f:\n",
        "    text = f.read()\n",
        "chars = sorted(set(text))\n",
        "print(len(text))\n",
        "print(chars)"
      ],
      "metadata": {
        "colab": {
          "base_uri": "https://localhost:8080/"
        },
        "id": "kBQw3v0bHAkV",
        "outputId": "5ff699a2-e2f0-43ef-d049-7001d587caa3"
      },
      "execution_count": 11,
      "outputs": [
        {
          "output_type": "stream",
          "name": "stdout",
          "text": [
            "653166\n",
            "['\\n', ' ', '!', '#', '$', '%', '&', '(', ')', '*', '+', ',', '-', '.', '/', '0', '1', '2', '3', '4', '5', '6', '7', '8', '9', ':', ';', '<', '=', '>', '?', 'A', 'B', 'C', 'D', 'E', 'F', 'G', 'H', 'I', 'J', 'K', 'L', 'M', 'N', 'O', 'P', 'Q', 'R', 'S', 'T', 'U', 'V', 'W', 'X', 'Y', 'Z', '[', ']', '_', 'a', 'b', 'c', 'd', 'e', 'f', 'g', 'h', 'i', 'j', 'k', 'l', 'm', 'n', 'o', 'p', 'q', 'r', 's', 't', 'u', 'v', 'w', 'x', 'y', 'z', '}', '§', '°', '´', '¶', '·', '¹', '¼', '½', '¾', 'Æ', 'Ç', 'É', 'à', 'á', 'â', 'ã', 'æ', 'ç', 'è', 'é', 'ë', 'ì', 'ï', 'ñ', 'ò', 'ó', 'ô', 'ö', 'ù', 'Ā', 'ā', 'đ', 'ē', 'ō', 'œ', 'ū', 'ȳ', 'ɫ', 'ʰ', 'ʳ', 'ˡ', 'ˢ', '̃', '̄', '̅', '̰', 'β', 'γ', 'ᵃ', 'ᵈ', 'ᵉ', 'ᵐ', 'ᵒ', 'ᵗ', 'ᵱ', 'ᶜ', 'ḡ', '–', '—', '‘', '’', '“', '”', '„', '†', '•', '′', '⁄', 'ⁱ', '⁵', '⁷', '⁸', 'ⁿ', '₃', '™', '⅓', '⅔', '⅕', '⅙', '⅚', '●', '✝', '✠', 'ꝓ', 'ꝫ']\n"
          ]
        }
      ]
    },
    {
      "cell_type": "code",
      "source": [
        "print(len(chars))"
      ],
      "metadata": {
        "colab": {
          "base_uri": "https://localhost:8080/"
        },
        "id": "7NSt46qmHAyH",
        "outputId": "7aa5b003-5dc9-48e8-eaa4-056500105f99"
      },
      "execution_count": 4,
      "outputs": [
        {
          "output_type": "stream",
          "name": "stdout",
          "text": [
            "172\n"
          ]
        }
      ]
    },
    {
      "cell_type": "code",
      "source": [
        "stoi = {ch:i for i, ch in enumerate(chars) }\n",
        "itos = {i:ch for i, ch in enumerate(chars) }\n",
        "\n",
        "encode = lambda s : [stoi[c] for c in s]\n",
        "decode = lambda l: ''.join([itos[i] for i in l])\n",
        "print(encode('a'))\n"
      ],
      "metadata": {
        "colab": {
          "base_uri": "https://localhost:8080/"
        },
        "id": "LH1UGJYOHFXi",
        "outputId": "b0cd111b-6146-4462-cbd6-0960092bd25e"
      },
      "execution_count": 5,
      "outputs": [
        {
          "output_type": "stream",
          "name": "stdout",
          "text": [
            "[60]\n"
          ]
        }
      ]
    },
    {
      "cell_type": "code",
      "source": [
        "import torch\n",
        "\n",
        "data = torch.tensor(encode(text))\n",
        "\n",
        "print(len(data))\n",
        "print(data[:100])"
      ],
      "metadata": {
        "colab": {
          "base_uri": "https://localhost:8080/"
        },
        "id": "F-H5byUIHqhW",
        "outputId": "59ced348-3e3a-4d18-feed-ea5fdaf5d9bd"
      },
      "execution_count": 10,
      "outputs": [
        {
          "output_type": "stream",
          "name": "stdout",
          "text": [
            "653166\n",
            "tensor([50, 67, 64,  1, 46, 77, 74, 69, 64, 62, 79,  1, 37, 80, 79, 64, 73, 61,\n",
            "        64, 77, 66,  1, 64, 32, 74, 74, 70,  1, 74, 65,  1, 50, 67, 64,  1, 65,\n",
            "        68, 77, 78, 79,  1, 81, 74, 84, 60, 66, 64,  1, 77, 74, 80, 73, 63,  1,\n",
            "        79, 67, 64,  1, 82, 74, 77, 71, 63, 11,  1, 61, 84,  1, 43, 60, 66, 64,\n",
            "        71, 71, 60, 73,  0,  1,  1,  1,  1,  0, 50, 67, 68, 78,  1, 64, 61, 74,\n",
            "        74, 70,  1, 68, 78,  1, 65, 74, 77,  1])\n"
          ]
        }
      ]
    },
    {
      "cell_type": "markdown",
      "source": [],
      "metadata": {
        "id": "7UdX5qLHHq8E"
      }
    },
    {
      "cell_type": "code",
      "source": [
        "n = int(0.8 * len(data))\n",
        "train_data = data[:n]\n",
        "val_data = data[n:]\n"
      ],
      "metadata": {
        "id": "ZEAA1SU2G3i4"
      },
      "execution_count": null,
      "outputs": []
    },
    {
      "cell_type": "code",
      "source": [],
      "metadata": {
        "id": "JdAmoqK1mhUA"
      },
      "execution_count": null,
      "outputs": []
    },
    {
      "cell_type": "code",
      "source": [],
      "metadata": {
        "id": "z_HJW7sFJhi5"
      },
      "execution_count": null,
      "outputs": []
    }
  ]
}